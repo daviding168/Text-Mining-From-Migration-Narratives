{
 "cells": [
  {
   "cell_type": "code",
   "execution_count": 1,
   "id": "ba8cbfc0",
   "metadata": {},
   "outputs": [],
   "source": [
    "from rdflib import Graph, Namespace, URIRef\n",
    "from rdflib.plugins.sparql import prepareQuery\n",
    "from xml.dom import minidom\n",
    "from tqdm import tqdm\n",
    "import os\n",
    "import json\n",
    "from scripts.get_geonamesId_and_Info_using_wikidataId import *"
   ]
  },
  {
   "cell_type": "code",
   "execution_count": 2,
   "id": "b7779706",
   "metadata": {},
   "outputs": [
    {
     "name": "stdout",
     "output_type": "stream",
     "text": [
      "Loading RDF Graph...\n",
      "Loading progress: 99.95%\n",
      "RDF data loaded successfully!\n"
     ]
    }
   ],
   "source": [
    "rdf_filename = \"Geonames/clean_all_geonames_rdf_african_countries.txt\"\n",
    "print(\"Loading RDF Graph...\")\n",
    "graph, name = load_rdf_with_progress(rdf_filename)\n",
    "print(\"RDF data loaded successfully!\")"
   ]
  },
  {
   "cell_type": "markdown",
   "id": "08dc4491",
   "metadata": {},
   "source": [
    "## Example list of geographical locations with their Wikidata IDs"
   ]
  },
  {
   "cell_type": "code",
   "execution_count": 3,
   "id": "67ed7b1d",
   "metadata": {},
   "outputs": [],
   "source": [
    "list_mention_entity_with_wikidataId = [{\n",
    "            \"entity_group\": \"LOC\",\n",
    "            \"ner_score\": 1.0,\n",
    "            \"word\": \"Okene\",\n",
    "            \"wikidataId\": \"Q2017187\",\n",
    "            \"start\": 3,\n",
    "            \"end\": 8\n",
    "        },\n",
    "        {\n",
    "            \"entity_group\": \"LOC\",\n",
    "            \"ner_score\": 1.0,\n",
    "            \"word\": \"Abuja\",\n",
    "            \"wikidataId\": \"Q3787\",\n",
    "            \"start\": 346,\n",
    "            \"end\": 351\n",
    "        },\n",
    "        {\n",
    "            \"entity_group\": \"LOC\",\n",
    "            \"ner_score\": 1.0,\n",
    "            \"word\": \"Tamanrasset\",\n",
    "            \"wikidataId\": \"Q205792\",\n",
    "            \"start\": 827,\n",
    "            \"end\": 838\n",
    "        },\n",
    "        {\n",
    "            \"entity_group\": \"LOC\",\n",
    "            \"ner_score\": 1.0,\n",
    "            \"word\": \"Oran\",\n",
    "            \"wikidataId\": \"Q131818\",\n",
    "            \"start\": 1461,\n",
    "            \"end\": 1465\n",
    "        },\n",
    "        {\n",
    "            \"entity_group\": \"LOC\",\n",
    "            \"ner_score\": 1.0,\n",
    "            \"word\": \"Maghnia\",\n",
    "            \"wikidataId\": \"Q179604\",\n",
    "            \"start\": 1556,\n",
    "            \"end\": 1563\n",
    "        }\n",
    "    ]"
   ]
  },
  {
   "cell_type": "markdown",
   "id": "ce1b8d67",
   "metadata": {},
   "source": [
    "#### Retrieve Geonames IDs by submitting SPARQL queries to the Wikidata SPARQL endpoint using Wikidata IDs"
   ]
  },
  {
   "cell_type": "code",
   "execution_count": 4,
   "id": "7704d942",
   "metadata": {},
   "outputs": [
    {
     "name": "stderr",
     "output_type": "stream",
     "text": [
      "100%|█████████████████████████████████████████████| 5/5 [00:02<00:00,  2.31it/s]\n"
     ]
    }
   ],
   "source": [
    "list_mention_entity_with_wikidataId_and_geonamesId = get_geonamesId_from_list_entity_with_wikidataId(list_mention_entity_with_wikidataId)"
   ]
  },
  {
   "cell_type": "markdown",
   "id": "09fc4f90",
   "metadata": {},
   "source": [
    "## List of geographical locations with their Wikidata IDs and Geonames IDs"
   ]
  },
  {
   "cell_type": "code",
   "execution_count": 5,
   "id": "5c38b9ed",
   "metadata": {
    "scrolled": false
   },
   "outputs": [
    {
     "data": {
      "text/plain": [
       "[{'entity_group': 'LOC',\n",
       "  'ner_score': 1.0,\n",
       "  'word': 'Okene',\n",
       "  'wikidataId': 'Q2017187',\n",
       "  'geonamesId': '2327220',\n",
       "  'start': 3,\n",
       "  'end': 8},\n",
       " {'entity_group': 'LOC',\n",
       "  'ner_score': 1.0,\n",
       "  'word': 'Abuja',\n",
       "  'wikidataId': 'Q3787',\n",
       "  'geonamesId': '2352778',\n",
       "  'start': 346,\n",
       "  'end': 351},\n",
       " {'entity_group': 'LOC',\n",
       "  'ner_score': 1.0,\n",
       "  'word': 'Tamanrasset',\n",
       "  'wikidataId': 'Q205792',\n",
       "  'geonamesId': '2478216',\n",
       "  'start': 827,\n",
       "  'end': 838},\n",
       " {'entity_group': 'LOC',\n",
       "  'ner_score': 1.0,\n",
       "  'word': 'Oran',\n",
       "  'wikidataId': 'Q131818',\n",
       "  'geonamesId': '2485926',\n",
       "  'start': 1461,\n",
       "  'end': 1465},\n",
       " {'entity_group': 'LOC',\n",
       "  'ner_score': 1.0,\n",
       "  'word': 'Maghnia',\n",
       "  'wikidataId': 'Q179604',\n",
       "  'geonamesId': '2490584',\n",
       "  'start': 1556,\n",
       "  'end': 1563}]"
      ]
     },
     "execution_count": 5,
     "metadata": {},
     "output_type": "execute_result"
    }
   ],
   "source": [
    "list_mention_entity_with_wikidataId_and_geonamesId"
   ]
  },
  {
   "cell_type": "markdown",
   "id": "8cac3984",
   "metadata": {},
   "source": [
    "#### Retrieve longtitudes and latitudes of locations by submitting SPARQL queries to the Geonames N-triple database using Geonames IDs"
   ]
  },
  {
   "cell_type": "code",
   "execution_count": 6,
   "id": "012601c8",
   "metadata": {},
   "outputs": [
    {
     "name": "stdout",
     "output_type": "stream",
     "text": [
      "Executing SPARQL query...\n",
      "Executing SPARQL query...\n",
      "Executing SPARQL query...\n",
      "Executing SPARQL query...\n",
      "Executing SPARQL query...\n"
     ]
    }
   ],
   "source": [
    "list_mention_entity_with_wikidataId_and_geonamesId_Info = get_geonamesInfo_from_list_entity_with_wikidataId_and_geonamesId(list_mention_entity_with_wikidataId_and_geonamesId, graph, name)"
   ]
  },
  {
   "cell_type": "markdown",
   "id": "2a46cae1",
   "metadata": {},
   "source": [
    "## List of geographical locations with their longitudes and latitudes"
   ]
  },
  {
   "cell_type": "code",
   "execution_count": 7,
   "id": "72a8c0d6",
   "metadata": {},
   "outputs": [
    {
     "data": {
      "text/plain": [
       "[{'entity_group': 'LOC',\n",
       "  'ner_score': 1.0,\n",
       "  'word': 'Okene',\n",
       "  'wikidataId': 'Q2017187',\n",
       "  'geonamesId': '2327220',\n",
       "  'latitude': 7.55122,\n",
       "  'longitude': 6.23589,\n",
       "  'start': 3,\n",
       "  'end': 8},\n",
       " {'entity_group': 'LOC',\n",
       "  'ner_score': 1.0,\n",
       "  'word': 'Abuja',\n",
       "  'wikidataId': 'Q3787',\n",
       "  'geonamesId': '2352778',\n",
       "  'latitude': 9.05785,\n",
       "  'longitude': 7.49508,\n",
       "  'start': 346,\n",
       "  'end': 351},\n",
       " {'entity_group': 'LOC',\n",
       "  'ner_score': 1.0,\n",
       "  'word': 'Tamanrasset',\n",
       "  'wikidataId': 'Q205792',\n",
       "  'geonamesId': '2478216',\n",
       "  'latitude': 22.785,\n",
       "  'longitude': 5.52278,\n",
       "  'start': 827,\n",
       "  'end': 838},\n",
       " {'entity_group': 'LOC',\n",
       "  'ner_score': 1.0,\n",
       "  'word': 'Oran',\n",
       "  'wikidataId': 'Q131818',\n",
       "  'geonamesId': '2485926',\n",
       "  'latitude': 35.69906,\n",
       "  'longitude': -0.63588,\n",
       "  'start': 1461,\n",
       "  'end': 1465},\n",
       " {'entity_group': 'LOC',\n",
       "  'ner_score': 1.0,\n",
       "  'word': 'Maghnia',\n",
       "  'wikidataId': 'Q179604',\n",
       "  'geonamesId': '2490584',\n",
       "  'latitude': 34.84969,\n",
       "  'longitude': -1.72753,\n",
       "  'start': 1556,\n",
       "  'end': 1563}]"
      ]
     },
     "execution_count": 7,
     "metadata": {},
     "output_type": "execute_result"
    }
   ],
   "source": [
    "list_mention_entity_with_wikidataId_and_geonamesId_Info"
   ]
  }
 ],
 "metadata": {
  "kernelspec": {
   "display_name": "python3.9",
   "language": "python",
   "name": "python3.9"
  },
  "language_info": {
   "codemirror_mode": {
    "name": "ipython",
    "version": 3
   },
   "file_extension": ".py",
   "mimetype": "text/x-python",
   "name": "python",
   "nbconvert_exporter": "python",
   "pygments_lexer": "ipython3",
   "version": "3.10.10"
  }
 },
 "nbformat": 4,
 "nbformat_minor": 5
}
